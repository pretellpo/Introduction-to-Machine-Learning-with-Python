{
  "nbformat": 4,
  "nbformat_minor": 0,
  "metadata": {
    "colab": {
      "name": "Chapter2.ipynb",
      "provenance": [],
      "collapsed_sections": [],
      "authorship_tag": "ABX9TyOEq32KauwwW9qX+YWbG6qV",
      "include_colab_link": true
    },
    "kernelspec": {
      "name": "python3",
      "display_name": "Python 3"
    }
  },
  "cells": [
    {
      "cell_type": "markdown",
      "metadata": {
        "id": "view-in-github",
        "colab_type": "text"
      },
      "source": [
        "<a href=\"https://colab.research.google.com/github/pretellpo/Introduction-to-Machine-Learning-with-Python/blob/master/Chapter2.ipynb\" target=\"_parent\"><img src=\"https://colab.research.google.com/assets/colab-badge.svg\" alt=\"Open In Colab\"/></a>"
      ]
    },
    {
      "cell_type": "code",
      "metadata": {
        "id": "RIuF9JROcB25",
        "colab_type": "code",
        "colab": {
          "base_uri": "https://localhost:8080/",
          "height": 462
        },
        "outputId": "e6089c7e-81bf-4a8c-f105-9a8cb335b110"
      },
      "source": [
        "!pip install mglearn"
      ],
      "execution_count": 4,
      "outputs": [
        {
          "output_type": "stream",
          "text": [
            "Collecting mglearn\n",
            "\u001b[?25l  Downloading https://files.pythonhosted.org/packages/fb/01/8d3630ecc767c9de96a9c46e055f2a3a5f9e14a47d3d0348a36a5005fe67/mglearn-0.1.7.tar.gz (540kB)\n",
            "\r\u001b[K     |▋                               | 10kB 16.3MB/s eta 0:00:01\r\u001b[K     |█▏                              | 20kB 1.8MB/s eta 0:00:01\r\u001b[K     |█▉                              | 30kB 2.6MB/s eta 0:00:01\r\u001b[K     |██▍                             | 40kB 1.7MB/s eta 0:00:01\r\u001b[K     |███                             | 51kB 2.1MB/s eta 0:00:01\r\u001b[K     |███▋                            | 61kB 2.5MB/s eta 0:00:01\r\u001b[K     |████▎                           | 71kB 2.9MB/s eta 0:00:01\r\u001b[K     |████▉                           | 81kB 3.3MB/s eta 0:00:01\r\u001b[K     |█████▌                          | 92kB 3.7MB/s eta 0:00:01\r\u001b[K     |██████                          | 102kB 2.8MB/s eta 0:00:01\r\u001b[K     |██████▋                         | 112kB 2.8MB/s eta 0:00:01\r\u001b[K     |███████▎                        | 122kB 2.8MB/s eta 0:00:01\r\u001b[K     |███████▉                        | 133kB 2.8MB/s eta 0:00:01\r\u001b[K     |████████▌                       | 143kB 2.8MB/s eta 0:00:01\r\u001b[K     |█████████                       | 153kB 2.8MB/s eta 0:00:01\r\u001b[K     |█████████▊                      | 163kB 2.8MB/s eta 0:00:01\r\u001b[K     |██████████▎                     | 174kB 2.8MB/s eta 0:00:01\r\u001b[K     |███████████                     | 184kB 2.8MB/s eta 0:00:01\r\u001b[K     |███████████▌                    | 194kB 2.8MB/s eta 0:00:01\r\u001b[K     |████████████▏                   | 204kB 2.8MB/s eta 0:00:01\r\u001b[K     |████████████▊                   | 215kB 2.8MB/s eta 0:00:01\r\u001b[K     |█████████████▎                  | 225kB 2.8MB/s eta 0:00:01\r\u001b[K     |██████████████                  | 235kB 2.8MB/s eta 0:00:01\r\u001b[K     |██████████████▌                 | 245kB 2.8MB/s eta 0:00:01\r\u001b[K     |███████████████▏                | 256kB 2.8MB/s eta 0:00:01\r\u001b[K     |███████████████▊                | 266kB 2.8MB/s eta 0:00:01\r\u001b[K     |████████████████▍               | 276kB 2.8MB/s eta 0:00:01\r\u001b[K     |█████████████████               | 286kB 2.8MB/s eta 0:00:01\r\u001b[K     |█████████████████▋              | 296kB 2.8MB/s eta 0:00:01\r\u001b[K     |██████████████████▏             | 307kB 2.8MB/s eta 0:00:01\r\u001b[K     |██████████████████▊             | 317kB 2.8MB/s eta 0:00:01\r\u001b[K     |███████████████████▍            | 327kB 2.8MB/s eta 0:00:01\r\u001b[K     |████████████████████            | 337kB 2.8MB/s eta 0:00:01\r\u001b[K     |████████████████████▋           | 348kB 2.8MB/s eta 0:00:01\r\u001b[K     |█████████████████████▏          | 358kB 2.8MB/s eta 0:00:01\r\u001b[K     |█████████████████████▉          | 368kB 2.8MB/s eta 0:00:01\r\u001b[K     |██████████████████████▍         | 378kB 2.8MB/s eta 0:00:01\r\u001b[K     |███████████████████████         | 389kB 2.8MB/s eta 0:00:01\r\u001b[K     |███████████████████████▋        | 399kB 2.8MB/s eta 0:00:01\r\u001b[K     |████████████████████████▎       | 409kB 2.8MB/s eta 0:00:01\r\u001b[K     |████████████████████████▉       | 419kB 2.8MB/s eta 0:00:01\r\u001b[K     |█████████████████████████▍      | 430kB 2.8MB/s eta 0:00:01\r\u001b[K     |██████████████████████████      | 440kB 2.8MB/s eta 0:00:01\r\u001b[K     |██████████████████████████▋     | 450kB 2.8MB/s eta 0:00:01\r\u001b[K     |███████████████████████████▎    | 460kB 2.8MB/s eta 0:00:01\r\u001b[K     |███████████████████████████▉    | 471kB 2.8MB/s eta 0:00:01\r\u001b[K     |████████████████████████████▌   | 481kB 2.8MB/s eta 0:00:01\r\u001b[K     |█████████████████████████████   | 491kB 2.8MB/s eta 0:00:01\r\u001b[K     |█████████████████████████████▊  | 501kB 2.8MB/s eta 0:00:01\r\u001b[K     |██████████████████████████████▎ | 512kB 2.8MB/s eta 0:00:01\r\u001b[K     |███████████████████████████████ | 522kB 2.8MB/s eta 0:00:01\r\u001b[K     |███████████████████████████████▌| 532kB 2.8MB/s eta 0:00:01\r\u001b[K     |████████████████████████████████| 542kB 2.8MB/s \n",
            "\u001b[?25hRequirement already satisfied: numpy in /usr/local/lib/python3.6/dist-packages (from mglearn) (1.17.5)\n",
            "Requirement already satisfied: matplotlib in /usr/local/lib/python3.6/dist-packages (from mglearn) (3.1.3)\n",
            "Requirement already satisfied: scikit-learn in /usr/local/lib/python3.6/dist-packages (from mglearn) (0.22.1)\n",
            "Requirement already satisfied: pandas in /usr/local/lib/python3.6/dist-packages (from mglearn) (0.25.3)\n",
            "Requirement already satisfied: pillow in /usr/local/lib/python3.6/dist-packages (from mglearn) (6.2.2)\n",
            "Requirement already satisfied: cycler in /usr/local/lib/python3.6/dist-packages (from mglearn) (0.10.0)\n",
            "Requirement already satisfied: imageio in /usr/local/lib/python3.6/dist-packages (from mglearn) (2.4.1)\n",
            "Requirement already satisfied: kiwisolver>=1.0.1 in /usr/local/lib/python3.6/dist-packages (from matplotlib->mglearn) (1.1.0)\n",
            "Requirement already satisfied: pyparsing!=2.0.4,!=2.1.2,!=2.1.6,>=2.0.1 in /usr/local/lib/python3.6/dist-packages (from matplotlib->mglearn) (2.4.6)\n",
            "Requirement already satisfied: python-dateutil>=2.1 in /usr/local/lib/python3.6/dist-packages (from matplotlib->mglearn) (2.6.1)\n",
            "Requirement already satisfied: scipy>=0.17.0 in /usr/local/lib/python3.6/dist-packages (from scikit-learn->mglearn) (1.4.1)\n",
            "Requirement already satisfied: joblib>=0.11 in /usr/local/lib/python3.6/dist-packages (from scikit-learn->mglearn) (0.14.1)\n",
            "Requirement already satisfied: pytz>=2017.2 in /usr/local/lib/python3.6/dist-packages (from pandas->mglearn) (2018.9)\n",
            "Requirement already satisfied: six in /usr/local/lib/python3.6/dist-packages (from cycler->mglearn) (1.12.0)\n",
            "Requirement already satisfied: setuptools in /usr/local/lib/python3.6/dist-packages (from kiwisolver>=1.0.1->matplotlib->mglearn) (45.1.0)\n",
            "Building wheels for collected packages: mglearn\n",
            "  Building wheel for mglearn (setup.py) ... \u001b[?25l\u001b[?25hdone\n",
            "  Created wheel for mglearn: filename=mglearn-0.1.7-py2.py3-none-any.whl size=582705 sha256=d15e67ec83cc483ee7d45b110a02bff81060e6961415ea63e7479f92f98dbe06\n",
            "  Stored in directory: /root/.cache/pip/wheels/74/cf/8d/04f4932d15854a36726c6210763c7127e62de28f5c8ddfcf3b\n",
            "Successfully built mglearn\n",
            "Installing collected packages: mglearn\n",
            "Successfully installed mglearn-0.1.7\n"
          ],
          "name": "stdout"
        }
      ]
    },
    {
      "cell_type": "code",
      "metadata": {
        "id": "OFm4KPYr8O7h",
        "colab_type": "code",
        "colab": {
          "base_uri": "https://localhost:8080/",
          "height": 105
        },
        "outputId": "c1a70f05-7527-4d5f-f1db-da4d45c10784"
      },
      "source": [
        "import numpy as np\n",
        "from scipy import sparse\n",
        "import matplotlib.pyplot as plt\n",
        "import mglearn"
      ],
      "execution_count": 5,
      "outputs": [
        {
          "output_type": "stream",
          "text": [
            "/usr/local/lib/python3.6/dist-packages/sklearn/externals/six.py:31: FutureWarning: The module is deprecated in version 0.21 and will be removed in version 0.23 since we've dropped support for Python 2.7. Please rely on the official version of six (https://pypi.org/project/six/).\n",
            "  \"(https://pypi.org/project/six/).\", FutureWarning)\n",
            "/usr/local/lib/python3.6/dist-packages/sklearn/externals/joblib/__init__.py:15: FutureWarning: sklearn.externals.joblib is deprecated in 0.21 and will be removed in 0.23. Please import this functionality directly from joblib, which can be installed with: pip install joblib. If this warning is raised when loading pickled models, you may need to re-serialize those models with scikit-learn 0.21+.\n",
            "  warnings.warn(msg, category=FutureWarning)\n"
          ],
          "name": "stderr"
        }
      ]
    },
    {
      "cell_type": "code",
      "metadata": {
        "id": "7g9ivEA8Pmq4",
        "colab_type": "code",
        "colab": {
          "base_uri": "https://localhost:8080/",
          "height": 248
        },
        "outputId": "7643898f-e9a9-4284-9f5a-15b82c3de468"
      },
      "source": [
        "mglearn.plots.plot_animal_tree()"
      ],
      "execution_count": 6,
      "outputs": [
        {
          "output_type": "display_data",
          "data": {
            "image/png": "[encoded data removed]",
            "text/plain": [
              "<Figure size 432x288 with 1 Axes>"
            ]
          },
          "metadata": {
            "tags": []
          }
        }
      ]
    }
  ]
}